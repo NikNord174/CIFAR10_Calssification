{
  "cells": [
    {
      "cell_type": "code",
      "execution_count": 18,
      "metadata": {
        "id": "zRXqjWHVFgmr"
      },
      "outputs": [],
      "source": [
        "import cv2\n",
        "import numpy as np\n",
        "from typing import Tuple\n",
        "\n",
        "import torch\n",
        "import torch.nn as nn\n",
        "import torch.nn.functional as F\n",
        "from torch.utils.data import DataLoader\n",
        "from torchvision import datasets, transforms\n",
        "\n",
        "import matplotlib.pyplot as plt\n",
        "from sklearn.metrics import accuracy_score\n",
        "import time\n",
        "from torchvision.transforms import Compose, ToTensor, Normalize, RandomHorizontalFlip, ColorJitter"
      ]
    },
    {
      "cell_type": "code",
      "execution_count": 10,
      "metadata": {
        "id": "U62usNc6FcwP"
      },
      "outputs": [],
      "source": [
        "def imshow(img: torch.Tensor) -> None:\n",
        "    npimg = img.detach().cpu().numpy()\n",
        "    plt.axis('off')\n",
        "    plt.imshow(np.transpose(npimg, (1, 2, 0)))\n",
        "    plt.show()\n"
      ]
    },
    {
      "cell_type": "markdown",
      "metadata": {
        "id": "6KAZWMXlIP5U"
      },
      "source": [
        "## Image classification\n",
        "\n",
        "Dataset: [CIFAR10](https://www.cs.toronto.edu/~kriz/cifar.html) - 10 classes, color images 32x32 px"
      ]
    },
    {
      "cell_type": "code",
      "execution_count": 14,
      "metadata": {
        "id": "8OvAaugZIGba"
      },
      "outputs": [],
      "source": [
        "# CIFAR10 Classes\n",
        "classes = ('plane', 'car', 'bird', 'cat',\n",
        "           'deer', 'dog', 'frog', 'horse', 'ship', 'truck')"
      ]
    },
    {
      "cell_type": "code",
      "execution_count": 35,
      "metadata": {
        "id": "0K8ZT70iG_W-"
      },
      "outputs": [],
      "source": [
        "transform=transforms.Compose([\n",
        "                              RandomHorizontalFlip(p=0.5),\n",
        "                              ColorJitter(brightness=.5),\n",
        "                              ToTensor(),\n",
        "                              Normalize((0.5, 0.5, 0.5), (0.5, 0.5, 0.5))\n",
        "                              ])\n",
        "\n",
        "def get_loaders(batch_size: int=128,\n",
        "                num_workers: int=2,\n",
        "                transform: transforms.Compose=transform) -> Tuple[DataLoader, DataLoader]:\n",
        "    train = datasets.CIFAR10('../data', train=True, download=True, transform=transform)\n",
        "    test = datasets.CIFAR10('../data', train=False, download=True, transform=transform)\n",
        "    torch.manual_seed(123)  # To ensure the same sampling during each experiment\n",
        "    \n",
        "    train_loader = torch.utils.data.DataLoader(train, batch_size=batch_size, num_workers=num_workers, shuffle=True)\n",
        "    test_loader = torch.utils.data.DataLoader(test, batch_size=batch_size, num_workers=num_workers, shuffle=False)\n",
        "    return train_loader, test_loader"
      ]
    },
    {
      "cell_type": "code",
      "execution_count": null,
      "metadata": {
        "id": "_T4HQ0LAHhBp",
        "scrolled": true
      },
      "outputs": [],
      "source": [
        "train_loader, test_loader = get_loaders(8)\n",
        "images, labels = iter(train_loader).next()\n",
        "print(\"Tensor shape: {} BatchxCxHxW\".format(images.shape))\n",
        "labels = labels.numpy()\n",
        "for i in range(images.shape[0]):\n",
        "    print(classes[labels[i]])\n",
        "    img = images[i, ...].numpy()\n",
        "    img = np.moveaxis(img, 0, 2)\n",
        "    plt.imshow(img)\n",
        "    plt.show()"
      ]
    },
    {
      "cell_type": "markdown",
      "metadata": {
        "id": "0kP-N95WHVaN"
      },
      "source": [
        "## Model"
      ]
    },
    {
      "cell_type": "markdown",
      "metadata": {
        "id": "WXu9FLAZnbYX"
      },
      "source": [
        "### Conv_Net"
      ]
    },
    {
      "cell_type": "code",
      "execution_count": 29,
      "metadata": {
        "id": "lHsDSkCzv_sj"
      },
      "outputs": [],
      "source": [
        "class Conv_Net(nn.Module): \n",
        "    def __init__(self,\n",
        "                 input_channels: int = 3,\n",
        "                 lin_input: int = 1440,\n",
        "                 lin_output: int = 10) -> None:\n",
        "        super(Conv_Net, self).__init__()\n",
        "        self.conv = nn.Sequential(\n",
        "              self.simple_conv_block(input_channels, input_channels*30),  # [batch, 3, 32, 32] -> [batch, 90, 16, 16]\n",
        "              self.simple_conv_block(input_channels*30, input_channels*60, final_layer = False),  # [batch, 90, 16, 16] -> [batch, 180, 8, 8]\n",
        "              self.simple_conv_block(input_channels*60, input_channels*120, final_layer = False),  # [batch, 180, 8, 8] -> [batch, 360, 4, 4]\n",
        "              self.simple_conv_block(input_channels*120, input_channels*240, final_layer = False),  # [batch, 360, 4, 4] -> [batch, 720, 2, 2]\n",
        "              self.simple_conv_block(input_channels*240, input_channels*480, final_layer = True)  # [batch, 720, 2, 2] -> [batch, 1440, 1, 1]\n",
        "              )\n",
        "        self.lin = nn.Sequential(\n",
        "            self.simple_lin_block(lin_input, lin_output),  # [batch, 1440] -> [batch, 10]\n",
        "            )\n",
        "\n",
        "\n",
        "    def simple_conv_block(self,\n",
        "                          input_channels: int = 3,\n",
        "                          output_channels: int = 3,\n",
        "                          kernel_size: int = 2,\n",
        "                          padding: int = 0,\n",
        "                          final_layer: bool = False) -> nn.Sequential:\n",
        "        if not final_layer:\n",
        "            return nn.Sequential(\n",
        "                nn.Conv2d(in_channels=input_channels,\n",
        "                          out_channels=output_channels,\n",
        "                          kernel_size=kernel_size,\n",
        "                          padding=padding),\n",
        "                nn.BatchNorm2d(output_channels),\n",
        "                nn.MaxPool2d(kernel_size=2, stride=2, padding=1),\n",
        "                nn.Dropout(p=0.2),\n",
        "                nn.LeakyReLU(0.2)\n",
        "            )\n",
        "        else:  # Final Layer\n",
        "            return nn.Sequential(\n",
        "                nn.Conv2d(in_channels=input_channels,\n",
        "                          out_channels=output_channels,\n",
        "                          kernel_size=kernel_size,\n",
        "                          padding=padding)\n",
        "            )\n",
        "  \n",
        "    def simple_lin_block(self, input: int, output: int) -> nn.Sequential:\n",
        "        return nn.Sequential(\n",
        "            nn.Linear(input, output),\n",
        "            nn.LeakyReLU(0.2)\n",
        "        )\n",
        "\n",
        "\n",
        "    def forward(self, image: torch.tensor) -> torch.tensor:\n",
        "        x = self.conv(image)\n",
        "        x = torch.flatten(x, start_dim = 1)  # [batch, 1440, 1, 1] -> [batch, 1440]\n",
        "        x = self.lin(x)\n",
        "        return F.log_softmax(x, dim = 1)"
      ]
    },
    {
      "cell_type": "markdown",
      "metadata": {
        "id": "lOH94NY4nbYY"
      },
      "source": [
        "### Accuracy, train, test"
      ]
    },
    {
      "cell_type": "code",
      "execution_count": null,
      "metadata": {
        "id": "7z7yLULW-rzW"
      },
      "outputs": [],
      "source": [
        "def accuracy(pred: torch.Tensor, ground: torch.Tensor) -> float:\n",
        "    pred_class = pred.argmax(dim=1)\n",
        "    return sum(pred_class==ground).item()\n",
        "\n",
        "def train(model: nn.Sequential,\n",
        "          device: torch.device,\n",
        "          train_loader,#: dataloader.DataLoader,\n",
        "          scheduler: torch.sheduler) -> None:\n",
        "    model.train()\n",
        "    for data, target in train_loader:\n",
        "        data = data.to(device)\n",
        "        target = target.to(device)\n",
        "        optimizer.zero_grad()\n",
        "        out = model(data)\n",
        "        loss = F.nll_loss(out, target)\n",
        "        loss.backward()\n",
        "        scheduler.step()\n",
        "\n",
        "\n",
        "def test(model: nn.Sequential,\n",
        "         device: torch.device,\n",
        "         test_loader: DataLoader) -> Tuple[float, float]:\n",
        "    model.eval()\n",
        "    test_loss = 0\n",
        "    acc = 0\n",
        "    with torch.no_grad():\n",
        "        for data, target in test_loader:\n",
        "            data = data.to(device)\n",
        "            target = target.to(device)\n",
        "            out = model(data)\n",
        "            acc += accuracy(out, target)\n",
        "            loss = F.nll_loss(out, target, reduction='sum')\n",
        "            test_loss += loss.item()\n",
        "    return (test_loss / len(test_loader.dataset),\n",
        "            acc / len(test_loader.dataset))"
      ]
    },
    {
      "cell_type": "markdown",
      "metadata": {
        "id": "SB4MeL5lnbYZ"
      },
      "source": [
        "### Training"
      ]
    },
    {
      "cell_type": "code",
      "execution_count": null,
      "metadata": {
        "id": "v2Yo38Cw-rzZ"
      },
      "outputs": [],
      "source": [
        "epochs = 100\n",
        "if torch.cuda.is_available():\n",
        "    device = torch.device('cuda')\n",
        "else:\n",
        "    device = torch.device('cpu')\n",
        "\n",
        "batch_size = 128\n",
        "lr = 1e-3\n",
        "eps = 5e-3\n",
        "\n",
        "\n",
        "train_loader, test_loader = get_loaders(batch_size=batch_size, transform=transform, num_workers=2)\n",
        "model = Conv_Net().to(device)\n",
        "optimizer = torch.optim.Adam(model.parameters(), lr=lr)\n",
        "scheduler = torch.optim.lr_scheduler.ReduceLROnPlateau(optimizer, 'min')\n",
        "\n",
        "t0 = time.time()\n",
        "\n",
        "acc_list = []\n",
        "test_loss_list = []\n",
        "for epoch in range(epochs):\n",
        "    train(model, device, train_loader, optimizer)\n",
        "    test_loss, acc = test(model, device, test_loader)\n",
        "    acc_list.append(acc)\n",
        "    test_loss_list.append(test_loss)\n",
        "    t1 = (time.time() - t0) / 60\n",
        "    print('Epoch: {}, test loss: {:.3f}, accuracy: {:.3f}, time: {:.2f} min'.format(epoch+1, test_loss, acc, t1))\n",
        "    if epoch > 2:\n",
        "        if max(acc_list[-5:]) - min(acc_list[-5:]) > eps:\n",
        "            continue\n",
        "        else:\n",
        "            break\n",
        "print('Finish!')\n"
      ]
    },
    {
      "cell_type": "code",
      "execution_count": null,
      "metadata": {
        "id": "5AZPVd6OnbYZ"
      },
      "outputs": [],
      "source": [
        "plt.plot(range(1, len(acc_list)+1), acc_list, label = 'acccuracy')\n",
        "plt.legend()\n",
        "plt.show()\n",
        "plt.plot(range(1, len(test_loss_list)+1), test_loss_list, label = 'loss')\n",
        "plt.legend()\n",
        "plt.show()"
      ]
    },
    {
      "cell_type": "code",
      "execution_count": null,
      "metadata": {
        "id": "CHnXzMHZ-rzk"
      },
      "outputs": [],
      "source": [
        ""
      ]
    }
  ],
  "metadata": {
    "colab": {
      "collapsed_sections": [],
      "name": "Homework_03.ipynb",
      "provenance": []
    },
    "kernelspec": {
      "display_name": "Python 3 (ipykernel)",
      "language": "python",
      "name": "python3"
    },
    "language_info": {
      "codemirror_mode": {
        "name": "ipython",
        "version": 3
      },
      "file_extension": ".py",
      "mimetype": "text/x-python",
      "name": "python",
      "nbconvert_exporter": "python",
      "pygments_lexer": "ipython3",
      "version": "3.10.4"
    }
  },
  "nbformat": 4,
  "nbformat_minor": 0
}